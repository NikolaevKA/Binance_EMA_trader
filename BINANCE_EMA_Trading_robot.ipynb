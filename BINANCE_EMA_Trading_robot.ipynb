{
 "cells": [
  {
   "cell_type": "code",
   "execution_count": null,
   "id": "6c6f590b",
   "metadata": {},
   "outputs": [],
   "source": [
    "!pip install \"C:\\Users\\Zerov\\TA_Lib-0.4.24-cp39-cp39-win_amd64.whl\""
   ]
  },
  {
   "cell_type": "code",
   "execution_count": null,
   "id": "92c5ec26",
   "metadata": {},
   "outputs": [],
   "source": [
    "!pip install requests\n",
    "!pip install numpy\n",
    "!pip install python-binance\n"
   ]
  },
  {
   "cell_type": "code",
   "execution_count": null,
   "id": "1c118b35",
   "metadata": {},
   "outputs": [],
   "source": [
    "api_key='******************************************************************'\n",
    "api_secret='*****************************************************************'"
   ]
  },
  {
   "cell_type": "code",
   "execution_count": 1,
   "id": "e2b10dbc",
   "metadata": {},
   "outputs": [],
   "source": [
    "from binance.client import Client\n",
    "import requests\n",
    "import numpy as np\n",
    "import talib\n",
    "import time"
   ]
  },
  {
   "cell_type": "code",
   "execution_count": 2,
   "id": "81c0f56b",
   "metadata": {},
   "outputs": [],
   "source": [
    "SYMBOL='ALGOUSDT'\n",
    "INTERVAL='15m'\n",
    "LIMIT='200'\n",
    "QNTY=35"
   ]
  },
  {
   "cell_type": "code",
   "execution_count": null,
   "id": "a243db1c",
   "metadata": {},
   "outputs": [],
   "source": [
    "client=Client(api_key, api_secret)"
   ]
  },
  {
   "cell_type": "code",
   "execution_count": null,
   "id": "79d857ca",
   "metadata": {},
   "outputs": [],
   "source": [
    "def get_data():\n",
    "    url='https://api.binance.com/api/v3/klines?symbol={}&interval={}&limit={}'.format(SYMBOL, INTERVAL, LIMIT)\n",
    "    res=requests.get(url)\n",
    "    return_data=[]\n",
    "    for each in res.json():\n",
    "        return_data.append(float(each[4]))\n",
    "    return np.array(return_data)\n",
    "#собираем только цены закрытия\n"
   ]
  },
  {
   "cell_type": "code",
   "execution_count": 8,
   "id": "635b0a7a",
   "metadata": {},
   "outputs": [
    {
     "data": {
      "text/plain": [
       "[1672663500000,\n",
       " '0.18110000',\n",
       " '0.18140000',\n",
       " '0.18090000',\n",
       " '0.18110000',\n",
       " '307192.00000000',\n",
       " 1672664399999,\n",
       " '55648.89960000',\n",
       " 144,\n",
       " '90531.00000000',\n",
       " '16399.69700000',\n",
       " '0']"
      ]
     },
     "execution_count": 8,
     "metadata": {},
     "output_type": "execute_result"
    }
   ],
   "source": [
    "url='https://api.binance.com/api/v3/klines?symbol={}&interval={}&limit={}'.format(SYMBOL, INTERVAL, LIMIT)\n",
    "res=requests.get(url)\n",
    "a=res.json()[0]\n",
    "a"
   ]
  },
  {
   "cell_type": "code",
   "execution_count": null,
   "id": "2e7ebfe7",
   "metadata": {},
   "outputs": [],
   "source": [
    "def place_order(order_type):\n",
    "    if(order_type =='buy'):\n",
    "        order=client.ceate_order(symbol=SYMBOL, side='buy', type='MARKET', quantity=QNTY)\n",
    "        print('Open position', order)\n",
    "    else:\n",
    "        order=client.ceate_order(symbol=SYMBOL, side='sell', type='MARKET', quantity=QNTY)\n",
    "        print('Close position', order)\n",
    "    return"
   ]
  },
  {
   "cell_type": "code",
   "execution_count": null,
   "id": "9fee2837",
   "metadata": {},
   "outputs": [],
   "source": [
    "def main():\n",
    "    buy = False\n",
    "    sell = True\n",
    "    ema_8 = None\n",
    "    emd_21 = None\n",
    "    last_ema_8 = None\n",
    "    last_ema_21 = None\n",
    "    print(SYMBOL)\n",
    "    print(INTERVAL)\n",
    "    print(QNTY)\n",
    "    \n",
    "    while True:\n",
    "        closing_data=get_data()\n",
    "        ema_8=talib.EMA(closing_data, 8)[-1]\n",
    "        ema_21=talib.EMA(closing_data, 21)[-1]\n",
    "        \n",
    "        if(ema_8 > ema_21 and last_ema_8):\n",
    "            if(ema_8 < ema_21 and not buy):\n",
    "                print('Buy!')\n",
    "                place_order('buy')\n",
    "                buy = True\n",
    "                sell = False\n",
    "        \n",
    "        if(ema_21 > ema_8 and last_ema_21):\n",
    "            if(last_ema_21<last_ema_8 and not sell):\n",
    "                print('Sell!')\n",
    "                place_order('sell')\n",
    "                sell=True\n",
    "                buy=False\n",
    "        last_ema_8= ema_8\n",
    "        last_ema_21= ema_21\n",
    "        time.sleep(1)\n",
    "         "
   ]
  },
  {
   "cell_type": "code",
   "execution_count": null,
   "id": "262dc3e4",
   "metadata": {},
   "outputs": [],
   "source": [
    "if __name__=='__main__':\n",
    "    main()"
   ]
  }
 ],
 "metadata": {
  "kernelspec": {
   "display_name": "Python 3 (ipykernel)",
   "language": "python",
   "name": "python3"
  },
  "language_info": {
   "codemirror_mode": {
    "name": "ipython",
    "version": 3
   },
   "file_extension": ".py",
   "mimetype": "text/x-python",
   "name": "python",
   "nbconvert_exporter": "python",
   "pygments_lexer": "ipython3",
   "version": "3.10.8 | packaged by conda-forge | (main, Nov 24 2022, 14:07:00) [MSC v.1916 64 bit (AMD64)]"
  },
  "vscode": {
   "interpreter": {
    "hash": "aad8867e04e68b718351eeba361e811904745029ed35ac5e0c2ce032699936d3"
   }
  }
 },
 "nbformat": 4,
 "nbformat_minor": 5
}
